{
 "cells": [
  {
   "cell_type": "code",
   "execution_count": 1,
   "metadata": {},
   "outputs": [],
   "source": [
    "import pandas as pd \n",
    "import numpy as np \n",
    "from preprocessing import preprocess\n",
    "from predictors import log_reg, log_reg_regularized, NN \n",
    "from analysis import metrics, plot_roc, predictions, combined_probs\n",
    "from seaborn import countplot\n",
    "import matplotlib.pyplot as plt"
   ]
  },
  {
   "cell_type": "markdown",
   "metadata": {},
   "source": [
    "# First look at the data  \n",
    "Data is subset of the Adult Census Income dataset, variable 'above' indicates whether annual income exceeds 50K dollars"
   ]
  },
  {
   "cell_type": "code",
   "execution_count": 2,
   "metadata": {},
   "outputs": [
    {
     "data": {
      "text/html": [
       "<div>\n",
       "<style scoped>\n",
       "    .dataframe tbody tr th:only-of-type {\n",
       "        vertical-align: middle;\n",
       "    }\n",
       "\n",
       "    .dataframe tbody tr th {\n",
       "        vertical-align: top;\n",
       "    }\n",
       "\n",
       "    .dataframe thead th {\n",
       "        text-align: right;\n",
       "    }\n",
       "</style>\n",
       "<table border=\"1\" class=\"dataframe\">\n",
       "  <thead>\n",
       "    <tr style=\"text-align: right;\">\n",
       "      <th></th>\n",
       "      <th>age</th>\n",
       "      <th>workclass</th>\n",
       "      <th>fnlwgt</th>\n",
       "      <th>education</th>\n",
       "      <th>education-num</th>\n",
       "      <th>marital-status</th>\n",
       "      <th>occupation</th>\n",
       "      <th>relationship</th>\n",
       "      <th>race</th>\n",
       "      <th>sex</th>\n",
       "      <th>capital-gain</th>\n",
       "      <th>capital-loss</th>\n",
       "      <th>hours-per-week</th>\n",
       "      <th>native-country</th>\n",
       "      <th>above</th>\n",
       "    </tr>\n",
       "  </thead>\n",
       "  <tbody>\n",
       "    <tr>\n",
       "      <td>0</td>\n",
       "      <td>18</td>\n",
       "      <td>Private</td>\n",
       "      <td>39302</td>\n",
       "      <td>12th</td>\n",
       "      <td>8</td>\n",
       "      <td>Never-married</td>\n",
       "      <td>Other-service</td>\n",
       "      <td>Own-child</td>\n",
       "      <td>White</td>\n",
       "      <td>Female</td>\n",
       "      <td>0</td>\n",
       "      <td>0</td>\n",
       "      <td>12</td>\n",
       "      <td>United-States</td>\n",
       "      <td>no</td>\n",
       "    </tr>\n",
       "    <tr>\n",
       "      <td>1</td>\n",
       "      <td>63</td>\n",
       "      <td>Local-gov</td>\n",
       "      <td>241404</td>\n",
       "      <td>Some-college</td>\n",
       "      <td>10</td>\n",
       "      <td>Divorced</td>\n",
       "      <td>Protective-serv</td>\n",
       "      <td>Not-in-family</td>\n",
       "      <td>White</td>\n",
       "      <td>Female</td>\n",
       "      <td>0</td>\n",
       "      <td>0</td>\n",
       "      <td>35</td>\n",
       "      <td>United-States</td>\n",
       "      <td>no</td>\n",
       "    </tr>\n",
       "    <tr>\n",
       "      <td>2</td>\n",
       "      <td>38</td>\n",
       "      <td>Self-emp-inc</td>\n",
       "      <td>312232</td>\n",
       "      <td>Bachelors</td>\n",
       "      <td>13</td>\n",
       "      <td>Married-civ-spouse</td>\n",
       "      <td>Sales</td>\n",
       "      <td>Husband</td>\n",
       "      <td>White</td>\n",
       "      <td>Male</td>\n",
       "      <td>0</td>\n",
       "      <td>0</td>\n",
       "      <td>55</td>\n",
       "      <td>United-States</td>\n",
       "      <td>yes</td>\n",
       "    </tr>\n",
       "    <tr>\n",
       "      <td>3</td>\n",
       "      <td>52</td>\n",
       "      <td>Local-gov</td>\n",
       "      <td>230095</td>\n",
       "      <td>Some-college</td>\n",
       "      <td>10</td>\n",
       "      <td>Married-civ-spouse</td>\n",
       "      <td>Prof-specialty</td>\n",
       "      <td>Wife</td>\n",
       "      <td>White</td>\n",
       "      <td>Female</td>\n",
       "      <td>0</td>\n",
       "      <td>0</td>\n",
       "      <td>40</td>\n",
       "      <td>United-States</td>\n",
       "      <td>no</td>\n",
       "    </tr>\n",
       "    <tr>\n",
       "      <td>4</td>\n",
       "      <td>27</td>\n",
       "      <td>Private</td>\n",
       "      <td>212895</td>\n",
       "      <td>Some-college</td>\n",
       "      <td>10</td>\n",
       "      <td>Never-married</td>\n",
       "      <td>Craft-repair</td>\n",
       "      <td>Not-in-family</td>\n",
       "      <td>White</td>\n",
       "      <td>Male</td>\n",
       "      <td>0</td>\n",
       "      <td>0</td>\n",
       "      <td>40</td>\n",
       "      <td>United-States</td>\n",
       "      <td>no</td>\n",
       "    </tr>\n",
       "    <tr>\n",
       "      <td>...</td>\n",
       "      <td>...</td>\n",
       "      <td>...</td>\n",
       "      <td>...</td>\n",
       "      <td>...</td>\n",
       "      <td>...</td>\n",
       "      <td>...</td>\n",
       "      <td>...</td>\n",
       "      <td>...</td>\n",
       "      <td>...</td>\n",
       "      <td>...</td>\n",
       "      <td>...</td>\n",
       "      <td>...</td>\n",
       "      <td>...</td>\n",
       "      <td>...</td>\n",
       "      <td>...</td>\n",
       "    </tr>\n",
       "    <tr>\n",
       "      <td>9995</td>\n",
       "      <td>55</td>\n",
       "      <td>Private</td>\n",
       "      <td>199212</td>\n",
       "      <td>Some-college</td>\n",
       "      <td>10</td>\n",
       "      <td>Married-civ-spouse</td>\n",
       "      <td>Adm-clerical</td>\n",
       "      <td>Wife</td>\n",
       "      <td>White</td>\n",
       "      <td>Female</td>\n",
       "      <td>5178</td>\n",
       "      <td>0</td>\n",
       "      <td>40</td>\n",
       "      <td>United-States</td>\n",
       "      <td>yes</td>\n",
       "    </tr>\n",
       "    <tr>\n",
       "      <td>9996</td>\n",
       "      <td>26</td>\n",
       "      <td>Private</td>\n",
       "      <td>210521</td>\n",
       "      <td>HS-grad</td>\n",
       "      <td>9</td>\n",
       "      <td>Married-civ-spouse</td>\n",
       "      <td>Craft-repair</td>\n",
       "      <td>Husband</td>\n",
       "      <td>White</td>\n",
       "      <td>Male</td>\n",
       "      <td>0</td>\n",
       "      <td>0</td>\n",
       "      <td>42</td>\n",
       "      <td>United-States</td>\n",
       "      <td>yes</td>\n",
       "    </tr>\n",
       "    <tr>\n",
       "      <td>9997</td>\n",
       "      <td>44</td>\n",
       "      <td>Federal-gov</td>\n",
       "      <td>210492</td>\n",
       "      <td>Some-college</td>\n",
       "      <td>10</td>\n",
       "      <td>Divorced</td>\n",
       "      <td>Adm-clerical</td>\n",
       "      <td>Unmarried</td>\n",
       "      <td>Black</td>\n",
       "      <td>Male</td>\n",
       "      <td>0</td>\n",
       "      <td>0</td>\n",
       "      <td>40</td>\n",
       "      <td>United-States</td>\n",
       "      <td>no</td>\n",
       "    </tr>\n",
       "    <tr>\n",
       "      <td>9998</td>\n",
       "      <td>19</td>\n",
       "      <td>Private</td>\n",
       "      <td>78374</td>\n",
       "      <td>Some-college</td>\n",
       "      <td>10</td>\n",
       "      <td>Never-married</td>\n",
       "      <td>Adm-clerical</td>\n",
       "      <td>Unmarried</td>\n",
       "      <td>Asian-Pac-Islander</td>\n",
       "      <td>Female</td>\n",
       "      <td>0</td>\n",
       "      <td>0</td>\n",
       "      <td>40</td>\n",
       "      <td>United-States</td>\n",
       "      <td>no</td>\n",
       "    </tr>\n",
       "    <tr>\n",
       "      <td>9999</td>\n",
       "      <td>52</td>\n",
       "      <td>Private</td>\n",
       "      <td>236222</td>\n",
       "      <td>HS-grad</td>\n",
       "      <td>9</td>\n",
       "      <td>Divorced</td>\n",
       "      <td>Exec-managerial</td>\n",
       "      <td>Not-in-family</td>\n",
       "      <td>White</td>\n",
       "      <td>Female</td>\n",
       "      <td>0</td>\n",
       "      <td>0</td>\n",
       "      <td>40</td>\n",
       "      <td>United-States</td>\n",
       "      <td>no</td>\n",
       "    </tr>\n",
       "  </tbody>\n",
       "</table>\n",
       "<p>10000 rows × 15 columns</p>\n",
       "</div>"
      ],
      "text/plain": [
       "      age      workclass  fnlwgt      education  education-num  \\\n",
       "0      18        Private   39302           12th              8   \n",
       "1      63      Local-gov  241404   Some-college             10   \n",
       "2      38   Self-emp-inc  312232      Bachelors             13   \n",
       "3      52      Local-gov  230095   Some-college             10   \n",
       "4      27        Private  212895   Some-college             10   \n",
       "...   ...            ...     ...            ...            ...   \n",
       "9995   55        Private  199212   Some-college             10   \n",
       "9996   26        Private  210521        HS-grad              9   \n",
       "9997   44    Federal-gov  210492   Some-college             10   \n",
       "9998   19        Private   78374   Some-college             10   \n",
       "9999   52        Private  236222        HS-grad              9   \n",
       "\n",
       "           marital-status        occupation    relationship  \\\n",
       "0           Never-married     Other-service       Own-child   \n",
       "1                Divorced   Protective-serv   Not-in-family   \n",
       "2      Married-civ-spouse             Sales         Husband   \n",
       "3      Married-civ-spouse    Prof-specialty            Wife   \n",
       "4           Never-married      Craft-repair   Not-in-family   \n",
       "...                   ...               ...             ...   \n",
       "9995   Married-civ-spouse      Adm-clerical            Wife   \n",
       "9996   Married-civ-spouse      Craft-repair         Husband   \n",
       "9997             Divorced      Adm-clerical       Unmarried   \n",
       "9998        Never-married      Adm-clerical       Unmarried   \n",
       "9999             Divorced   Exec-managerial   Not-in-family   \n",
       "\n",
       "                     race      sex  capital-gain  capital-loss  \\\n",
       "0                   White   Female             0             0   \n",
       "1                   White   Female             0             0   \n",
       "2                   White     Male             0             0   \n",
       "3                   White   Female             0             0   \n",
       "4                   White     Male             0             0   \n",
       "...                   ...      ...           ...           ...   \n",
       "9995                White   Female          5178             0   \n",
       "9996                White     Male             0             0   \n",
       "9997                Black     Male             0             0   \n",
       "9998   Asian-Pac-Islander   Female             0             0   \n",
       "9999                White   Female             0             0   \n",
       "\n",
       "      hours-per-week  native-country above  \n",
       "0                 12   United-States    no  \n",
       "1                 35   United-States    no  \n",
       "2                 55   United-States   yes  \n",
       "3                 40   United-States    no  \n",
       "4                 40   United-States    no  \n",
       "...              ...             ...   ...  \n",
       "9995              40   United-States   yes  \n",
       "9996              42   United-States   yes  \n",
       "9997              40   United-States    no  \n",
       "9998              40   United-States    no  \n",
       "9999              40   United-States    no  \n",
       "\n",
       "[10000 rows x 15 columns]"
      ]
     },
     "execution_count": 2,
     "metadata": {},
     "output_type": "execute_result"
    }
   ],
   "source": [
    "data_frame = pd.read_csv('Team_Project_doc_data_19/train_test_2019.csv', delimiter=',', header =  0)\n",
    "data_frame"
   ]
  },
  {
   "cell_type": "code",
   "execution_count": 3,
   "metadata": {},
   "outputs": [
    {
     "data": {
      "text/plain": [
       "array([[<matplotlib.axes._subplots.AxesSubplot object at 0x1a1e3e6f10>]],\n",
       "      dtype=object)"
      ]
     },
     "execution_count": 3,
     "metadata": {},
     "output_type": "execute_result"
    },
    {
     "data": {
      "image/png": "[encoded data removed]",
      "text/plain": [
       "<Figure size 432x288 with 1 Axes>"
      ]
     },
     "metadata": {
      "needs_background": "light"
     },
     "output_type": "display_data"
    },
    {
     "data": {
      "image/png": "[encoded data removed]",
      "text/plain": [
       "<Figure size 432x288 with 1 Axes>"
      ]
     },
     "metadata": {
      "needs_background": "light"
     },
     "output_type": "display_data"
    }
   ],
   "source": [
    "data_frame.hist(column = ['age'])\n",
    "data_frame.hist(column = ['hours-per-week'])"
   ]
  },
  {
   "cell_type": "code",
   "execution_count": 4,
   "metadata": {},
   "outputs": [
    {
     "data": {
      "image/png": "[encoded data removed]",
      "text/plain": [
       "<Figure size 432x288 with 1 Axes>"
      ]
     },
     "metadata": {
      "needs_background": "light"
     },
     "output_type": "display_data"
    }
   ],
   "source": [
    "countplot(x=\"sex\", hue = 'above', data=data_frame);"
   ]
  },
  {
   "cell_type": "code",
   "execution_count": 5,
   "metadata": {},
   "outputs": [
    {
     "data": {
      "text/plain": [
       "<matplotlib.axes._subplots.AxesSubplot at 0x1a1dd2f0d0>"
      ]
     },
     "execution_count": 5,
     "metadata": {},
     "output_type": "execute_result"
    },
    {
     "data": {
      "image/png": "[encoded data removed]",
      "text/plain": [
       "<Figure size 432x288 with 1 Axes>"
      ]
     },
     "metadata": {
      "needs_background": "light"
     },
     "output_type": "display_data"
    }
   ],
   "source": [
    "countplot(x = 'above', data = data_frame)"
   ]
  },
  {
   "cell_type": "markdown",
   "metadata": {},
   "source": [
    "# Preprocessing \n",
    "Includes one hot encoding categorical variables and creating train/validation split. "
   ]
  },
  {
   "cell_type": "code",
   "execution_count": 6,
   "metadata": {},
   "outputs": [
    {
     "name": "stdout",
     "output_type": "stream",
     "text": [
      "(8000, 103)\n",
      "(8000,)\n",
      "(2000, 103)\n",
      "(2000,)\n"
     ]
    },
    {
     "name": "stderr",
     "output_type": "stream",
     "text": [
      "/Users/rasmushelander/opt/anaconda3/lib/python3.7/site-packages/sklearn/preprocessing/_encoders.py:415: FutureWarning: The handling of integer data will change in version 0.22. Currently, the categories are determined based on the range [0, max(values)], while in the future they will be determined based on the unique values.\n",
      "If you want the future behaviour and silence this warning, you can specify \"categories='auto'\".\n",
      "In case you used a LabelEncoder before this OneHotEncoder to convert the categories to integers, then you can now use the OneHotEncoder directly.\n",
      "  warnings.warn(msg, FutureWarning)\n"
     ]
    }
   ],
   "source": [
    "(X_train, Y_train, X_val, Y_val) = preprocess(data_frame, output_col = -1)\n",
    "print(X_train.shape)\n",
    "print(Y_train.shape)\n",
    "print(X_val.shape)\n",
    "print(Y_val.shape)"
   ]
  },
  {
   "cell_type": "markdown",
   "metadata": {},
   "source": [
    "# Analysis\n",
    "Using logistic regression with and without regularized weights, as well as a simple neural network with dropout layers. Metrics analyzed are the confusion matrix, precision, recall, f1-score, accuracy, roc-curve and roc auc. "
   ]
  },
  {
   "cell_type": "code",
   "execution_count": 7,
   "metadata": {},
   "outputs": [
    {
     "name": "stdout",
     "output_type": "stream",
     "text": [
      "Optimization terminated successfully.\n",
      "         Current function value: 0.315719\n",
      "         Iterations: 529\n",
      "         Function evaluations: 530\n",
      "         Gradient evaluations: 530\n",
      "confusion_matrix\n",
      "[[1389  118]\n",
      " [ 211  282]]\n",
      "p\n",
      "0.705\n",
      "r\n",
      "0.5720081135902637\n",
      "f1\n",
      "0.6315789473684209\n",
      "acc\n",
      "0.8355\n",
      "auc\n",
      "0.8812021250392018\n"
     ]
    },
    {
     "name": "stderr",
     "output_type": "stream",
     "text": [
      "/Users/rasmushelander/opt/anaconda3/lib/python3.7/site-packages/statsmodels/base/model.py:492: HessianInversionWarning: Inverting hessian failed, no bse or cov_params available\n",
      "  'available', HessianInversionWarning)\n"
     ]
    }
   ],
   "source": [
    "p_logreg = log_reg(X_train, Y_train, X_val)\n",
    "res_logreg = metrics(Y_val, p_logreg, cutoff = 0.5)\n",
    "for (k,v) in res_logreg.items():\n",
    "    if k != 'roc':\n",
    "        print(k)\n",
    "        print(v)       "
   ]
  },
  {
   "cell_type": "code",
   "execution_count": 8,
   "metadata": {},
   "outputs": [
    {
     "name": "stderr",
     "output_type": "stream",
     "text": [
      "/Users/rasmushelander/opt/anaconda3/lib/python3.7/site-packages/sklearn/linear_model/logistic.py:432: FutureWarning: Default solver will be changed to 'lbfgs' in 0.22. Specify a solver to silence this warning.\n",
      "  FutureWarning)\n"
     ]
    },
    {
     "name": "stdout",
     "output_type": "stream",
     "text": [
      "confusion_matrix\n",
      "[[1394  113]\n",
      " [ 208  285]]\n",
      "p\n",
      "0.7160804020100503\n",
      "r\n",
      "0.5780933062880325\n",
      "f1\n",
      "0.6397306397306398\n",
      "acc\n",
      "0.8395\n",
      "auc\n",
      "0.8876938048404268\n"
     ]
    }
   ],
   "source": [
    "p_logreg_regularized = log_reg_regularized(X_train, Y_train, X_val)\n",
    "res_logreg_regularized = metrics(Y_val, p_logreg_regularized, cutoff = 0.5)\n",
    "for (k,v) in res_logreg_regularized.items():\n",
    "    if k != 'roc':\n",
    "        print(k)\n",
    "        print(v)  "
   ]
  },
  {
   "cell_type": "code",
   "execution_count": 9,
   "metadata": {},
   "outputs": [
    {
     "name": "stderr",
     "output_type": "stream",
     "text": [
      "Using TensorFlow backend.\n"
     ]
    }
   ],
   "source": [
    "from keras import models, layers\n",
    "model = models.Sequential()\n",
    "model.add(layers.Dense(50, input_shape=(103,), activation = 'relu'))\n",
    "model.add(layers.Dropout(0.5))\n",
    "model.add(layers.Dense(50, activation = 'relu'))\n",
    "model.add(layers.Dropout(0.5))\n",
    "model.add(layers.Dense(50))\n",
    "model.add(layers.Dense(1, activation='sigmoid'))\n",
    "model.compile(loss='binary_crossentropy', optimizer='adam', metrics=['accuracy'])"
   ]
  },
  {
   "cell_type": "code",
   "execution_count": 10,
   "metadata": {},
   "outputs": [
    {
     "name": "stdout",
     "output_type": "stream",
     "text": [
      "Train on 8000 samples, validate on 2000 samples\n",
      "Epoch 1/30\n",
      "8000/8000 [==============================] - 1s 169us/step - loss: 0.4496 - accuracy: 0.7800 - val_loss: 0.3683 - val_accuracy: 0.8225\n",
      "Epoch 2/30\n",
      "8000/8000 [==============================] - 1s 85us/step - loss: 0.3717 - accuracy: 0.8224 - val_loss: 0.3581 - val_accuracy: 0.8280\n",
      "Epoch 3/30\n",
      "8000/8000 [==============================] - 1s 80us/step - loss: 0.3582 - accuracy: 0.8353 - val_loss: 0.3500 - val_accuracy: 0.8345\n",
      "Epoch 4/30\n",
      "8000/8000 [==============================] - 1s 83us/step - loss: 0.3410 - accuracy: 0.8406 - val_loss: 0.3490 - val_accuracy: 0.8395\n",
      "Epoch 5/30\n",
      "8000/8000 [==============================] - 1s 86us/step - loss: 0.3348 - accuracy: 0.8466 - val_loss: 0.3466 - val_accuracy: 0.8390\n",
      "Epoch 6/30\n",
      "8000/8000 [==============================] - 1s 94us/step - loss: 0.3297 - accuracy: 0.8487 - val_loss: 0.3486 - val_accuracy: 0.8380\n",
      "Epoch 7/30\n",
      "8000/8000 [==============================] - 1s 87us/step - loss: 0.3296 - accuracy: 0.8466 - val_loss: 0.3487 - val_accuracy: 0.8385\n",
      "Epoch 8/30\n",
      "8000/8000 [==============================] - 1s 80us/step - loss: 0.3251 - accuracy: 0.8516 - val_loss: 0.3537 - val_accuracy: 0.8390\n",
      "Epoch 9/30\n",
      "8000/8000 [==============================] - 1s 83us/step - loss: 0.3227 - accuracy: 0.8505 - val_loss: 0.3528 - val_accuracy: 0.8375\n",
      "Epoch 10/30\n",
      "8000/8000 [==============================] - 1s 81us/step - loss: 0.3186 - accuracy: 0.8526 - val_loss: 0.3575 - val_accuracy: 0.8385\n",
      "Epoch 11/30\n",
      "8000/8000 [==============================] - 1s 80us/step - loss: 0.3142 - accuracy: 0.8540 - val_loss: 0.3555 - val_accuracy: 0.8415\n",
      "Epoch 12/30\n",
      "8000/8000 [==============================] - 1s 81us/step - loss: 0.3157 - accuracy: 0.8566 - val_loss: 0.3581 - val_accuracy: 0.8400\n",
      "Epoch 13/30\n",
      "8000/8000 [==============================] - 1s 120us/step - loss: 0.3117 - accuracy: 0.8602 - val_loss: 0.3612 - val_accuracy: 0.8390\n",
      "Epoch 14/30\n",
      "8000/8000 [==============================] - 1s 83us/step - loss: 0.3114 - accuracy: 0.8566 - val_loss: 0.3592 - val_accuracy: 0.8390\n",
      "Epoch 15/30\n",
      "8000/8000 [==============================] - 1s 90us/step - loss: 0.3064 - accuracy: 0.8587 - val_loss: 0.3642 - val_accuracy: 0.8390\n",
      "Epoch 16/30\n",
      "8000/8000 [==============================] - 1s 103us/step - loss: 0.3085 - accuracy: 0.8589 - val_loss: 0.3673 - val_accuracy: 0.8365\n",
      "Epoch 17/30\n",
      "8000/8000 [==============================] - 1s 93us/step - loss: 0.3118 - accuracy: 0.8581 - val_loss: 0.3710 - val_accuracy: 0.8385\n",
      "Epoch 18/30\n",
      "8000/8000 [==============================] - 1s 95us/step - loss: 0.3047 - accuracy: 0.8604 - val_loss: 0.3669 - val_accuracy: 0.8365\n",
      "Epoch 19/30\n",
      "8000/8000 [==============================] - 1s 83us/step - loss: 0.3041 - accuracy: 0.8624 - val_loss: 0.3706 - val_accuracy: 0.8355\n",
      "Epoch 20/30\n",
      "8000/8000 [==============================] - 1s 81us/step - loss: 0.3057 - accuracy: 0.8611 - val_loss: 0.3719 - val_accuracy: 0.8355\n",
      "Epoch 21/30\n",
      "8000/8000 [==============================] - 1s 105us/step - loss: 0.3039 - accuracy: 0.8610 - val_loss: 0.3723 - val_accuracy: 0.8375\n",
      "Epoch 22/30\n",
      "8000/8000 [==============================] - 1s 106us/step - loss: 0.2987 - accuracy: 0.8625 - val_loss: 0.3760 - val_accuracy: 0.8350\n",
      "Epoch 23/30\n",
      "8000/8000 [==============================] - 1s 167us/step - loss: 0.2975 - accuracy: 0.8620 - val_loss: 0.3807 - val_accuracy: 0.8400\n",
      "Epoch 24/30\n",
      "8000/8000 [==============================] - 1s 127us/step - loss: 0.2971 - accuracy: 0.8630 - val_loss: 0.3779 - val_accuracy: 0.8355\n",
      "Epoch 25/30\n",
      "8000/8000 [==============================] - 1s 105us/step - loss: 0.2961 - accuracy: 0.8629 - val_loss: 0.3759 - val_accuracy: 0.8350\n",
      "Epoch 26/30\n",
      "8000/8000 [==============================] - 1s 174us/step - loss: 0.3001 - accuracy: 0.8641 - val_loss: 0.3851 - val_accuracy: 0.8355\n",
      "Epoch 27/30\n",
      "8000/8000 [==============================] - 1s 165us/step - loss: 0.2931 - accuracy: 0.8629 - val_loss: 0.3783 - val_accuracy: 0.8360\n",
      "Epoch 28/30\n",
      "8000/8000 [==============================] - 1s 98us/step - loss: 0.2948 - accuracy: 0.8654 - val_loss: 0.3858 - val_accuracy: 0.8325\n",
      "Epoch 29/30\n",
      "8000/8000 [==============================] - 1s 91us/step - loss: 0.2937 - accuracy: 0.8709 - val_loss: 0.3881 - val_accuracy: 0.8335\n",
      "Epoch 30/30\n",
      "8000/8000 [==============================] - 1s 104us/step - loss: 0.2885 - accuracy: 0.8684 - val_loss: 0.3922 - val_accuracy: 0.8335\n"
     ]
    }
   ],
   "source": [
    "p_nn = NN(X_train, Y_train, X_val, Y_val, model)\n",
    "res_nn = metrics(Y_val, p_nn, cutoff = 0.5)\n",
    "p_comb = combined_probs(probs = [p_logreg, p_logreg_regularized, p_nn], accs = [res_logreg['acc'], res_logreg_regularized['acc'], res_nn['acc']], sample_size = len(Y_val))"
   ]
  },
  {
   "cell_type": "code",
   "execution_count": 11,
   "metadata": {},
   "outputs": [
    {
     "name": "stdout",
     "output_type": "stream",
     "text": [
      "confusion_matrix\n",
      "[[1407  100]\n",
      " [ 233  260]]\n",
      "p\n",
      "0.7222222222222222\n",
      "r\n",
      "0.5273833671399595\n",
      "f1\n",
      "0.6096131301289567\n",
      "acc\n",
      "0.8335\n",
      "auc\n",
      "0.8892410132027551\n"
     ]
    }
   ],
   "source": [
    "for (k,v) in res_nn.items():\n",
    "    if k != 'roc':\n",
    "        print(k)\n",
    "        print(v)"
   ]
  },
  {
   "cell_type": "code",
   "execution_count": 12,
   "metadata": {},
   "outputs": [
    {
     "data": {
      "text/plain": [
       "[<matplotlib.lines.Line2D at 0x1a3b2b3dd0>]"
      ]
     },
     "execution_count": 12,
     "metadata": {},
     "output_type": "execute_result"
    },
    {
     "data": {
      "image/png": "[encoded data removed]",
      "text/plain": [
       "<Figure size 432x288 with 1 Axes>"
      ]
     },
     "metadata": {
      "needs_background": "light"
     },
     "output_type": "display_data"
    }
   ],
   "source": [
    "plt.plot(res_logreg['roc'][0], res_logreg['roc'][1], 'g', label = 'logreg')\n",
    "plt.plot(res_logreg_regularized['roc'][0],res_logreg_regularized['roc'][1], 'b', label = 'logreg_regularided')\n",
    "plt.plot(res_nn['roc'][0], res_nn['roc'][1], 'r', label = 'nn')"
   ]
  }
 ],
 "metadata": {
  "kernelspec": {
   "display_name": "Python 3",
   "language": "python",
   "name": "python3"
  },
  "language_info": {
   "codemirror_mode": {
    "name": "ipython",
    "version": 3
   },
   "file_extension": ".py",
   "mimetype": "text/x-python",
   "name": "python",
   "nbconvert_exporter": "python",
   "pygments_lexer": "ipython3",
   "version": "3.7.4"
  }
 },
 "nbformat": 4,
 "nbformat_minor": 4
}
